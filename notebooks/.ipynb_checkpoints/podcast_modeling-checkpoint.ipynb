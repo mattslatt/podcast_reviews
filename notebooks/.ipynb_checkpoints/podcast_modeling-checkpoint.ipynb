{
 "cells": [
  {
   "cell_type": "code",
   "execution_count": 18,
   "metadata": {},
   "outputs": [],
   "source": [
    "import sqlite3\n",
    "import pandas as pd\n",
    "import numpy as np\n",
    "import matplotlib.pyplot as plt\n",
    "plt.style.use('ggplot')\n",
    "\n",
    "from collections import Counter\n",
    "from sklearn.model_selection import train_test_split\n",
    "from sklearn.metrics import classification_report, confusion_matrix\n",
    "from sklearn.feature_extraction.text import CountVectorizer, TfidfTransformer, TfidfVectorizer\n",
    "from sklearn.naive_bayes import MultinomialNB, ComplementNB\n",
    "from sklearn.pipeline import Pipeline\n",
    "from sklearn.dummy import DummyClassifier\n",
    "from sklearn.decomposition import LatentDirichletAllocation\n",
    "from sklearn.feature_extraction import text \n",
    "\n",
    "from imblearn.over_sampling import RandomOverSampler"
   ]
  },
  {
   "cell_type": "code",
   "execution_count": 2,
   "metadata": {},
   "outputs": [],
   "source": [
    "# connect to SQL database and convert to dataframes\n",
    "\n",
    "cnx = sqlite3.connect('../data/database.sqlite')\n",
    "\n",
    "categories = pd.read_sql_query(\"SELECT * FROM categories\", cnx)\n",
    "reviews = pd.read_sql_query(\"SELECT * FROM reviews\", cnx)\n",
    "podcasts = pd.read_sql_query(\"SELECT * FROM podcasts\", cnx)"
   ]
  },
  {
   "cell_type": "code",
   "execution_count": 3,
   "metadata": {},
   "outputs": [
    {
     "data": {
      "text/html": [
       "<div>\n",
       "<style scoped>\n",
       "    .dataframe tbody tr th:only-of-type {\n",
       "        vertical-align: middle;\n",
       "    }\n",
       "\n",
       "    .dataframe tbody tr th {\n",
       "        vertical-align: top;\n",
       "    }\n",
       "\n",
       "    .dataframe thead th {\n",
       "        text-align: right;\n",
       "    }\n",
       "</style>\n",
       "<table border=\"1\" class=\"dataframe\">\n",
       "  <thead>\n",
       "    <tr style=\"text-align: right;\">\n",
       "      <th></th>\n",
       "      <th>podcast_id</th>\n",
       "      <th>itunes_id</th>\n",
       "      <th>slug</th>\n",
       "      <th>itunes_url</th>\n",
       "      <th>title</th>\n",
       "    </tr>\n",
       "  </thead>\n",
       "  <tbody>\n",
       "  </tbody>\n",
       "</table>\n",
       "</div>"
      ],
      "text/plain": [
       "Empty DataFrame\n",
       "Columns: [podcast_id, itunes_id, slug, itunes_url, title]\n",
       "Index: []"
      ]
     },
     "execution_count": 3,
     "metadata": {},
     "output_type": "execute_result"
    }
   ],
   "source": [
    "# top 5 grossing podcasts according to statista\n",
    "\n",
    "podcasts[podcasts['slug'].str.contains('armchair')]\n",
    "podcasts[podcasts['slug'].str.contains('joe-rogan')]\n",
    "podcasts[podcasts['slug'].str.contains('my-favorite')]\n",
    "podcasts[podcasts['slug'].str.contains('dave-ram')]\n",
    "podcasts[podcasts['slug'].str.contains('bill-simmons')]"
   ]
  },
  {
   "cell_type": "code",
   "execution_count": 4,
   "metadata": {},
   "outputs": [
    {
     "name": "stdout",
     "output_type": "stream",
     "text": [
      "                             podcast_id category\n",
      "10736  d4baff0192b5f556b0c3f2a273e98e93   comedy\n",
      "10737  d4baff0192b5f556b0c3f2a273e98e93  tv-film\n",
      "                             podcast_id category\n",
      "10731  db93a05fe337aea2061b59c96e647100   comedy\n",
      "                             podcast_id category\n",
      "10732  bc5ddad3898e0973eb541577d1df8004   comedy\n"
     ]
    }
   ],
   "source": [
    "# categories for armchair expert\n",
    "print(categories[categories['podcast_id'] == 'd4baff0192b5f556b0c3f2a273e98e93'])\n",
    "\n",
    "# categories for JRE\n",
    "print(categories[categories['podcast_id'] == 'db93a05fe337aea2061b59c96e647100'])\n",
    "\n",
    "# categories for my favorite murder\n",
    "print(categories[categories['podcast_id'] == 'bc5ddad3898e0973eb541577d1df8004'])"
   ]
  },
  {
   "cell_type": "code",
   "execution_count": 5,
   "metadata": {},
   "outputs": [
    {
     "name": "stdout",
     "output_type": "stream",
     "text": [
      "249482 total comedy reviews\n",
      "8080 unique comedy podcasts\n"
     ]
    }
   ],
   "source": [
    "# merge categories and reviews columns to collect comedy review data\n",
    "\n",
    "reviews_categories = pd.merge(reviews, categories)\n",
    "comedy_reviews = reviews_categories[reviews_categories['category'] == 'comedy']\n",
    "print('{} total comedy reviews'.format(len(comedy_reviews)))\n",
    "print('{} unique comedy podcasts'.format(len(comedy_reviews['podcast_id'].unique())))"
   ]
  },
  {
   "cell_type": "code",
   "execution_count": 6,
   "metadata": {},
   "outputs": [
    {
     "name": "stdout",
     "output_type": "stream",
     "text": [
      "249482 total comedy reviews\n"
     ]
    }
   ],
   "source": [
    "# extract comedy reviews from dataframe\n",
    "\n",
    "print('{} total comedy reviews'.format(len(comedy_reviews)))\n",
    "\n",
    "X = comedy_reviews['content']\n",
    "y = comedy_reviews['rating'].apply(lambda x: 1 if x > 3 else 0)\n",
    "\n",
    "X_train, X_test, y_train, y_test = train_test_split(X, y)"
   ]
  },
  {
   "cell_type": "code",
   "execution_count": 7,
   "metadata": {},
   "outputs": [
    {
     "name": "stdout",
     "output_type": "stream",
     "text": [
      "              precision    recall  f1-score   support\n",
      "\n",
      "           0       0.09      0.09      0.09      6202\n",
      "           1       0.90      0.90      0.90     56169\n",
      "\n",
      "    accuracy                           0.82     62371\n",
      "   macro avg       0.50      0.50      0.50     62371\n",
      "weighted avg       0.82      0.82      0.82     62371\n",
      "\n"
     ]
    }
   ],
   "source": [
    "# dummy modeling\n",
    "\n",
    "dclf_stratified = DummyClassifier(strategy = 'stratified')\n",
    "dclf_stratified.fit(X_train, y_train)\n",
    "predicted_stratified = dclf_stratified.predict(X_test)\n",
    "print(classification_report(y_test, predicted_stratified))"
   ]
  },
  {
   "cell_type": "code",
   "execution_count": 8,
   "metadata": {},
   "outputs": [
    {
     "name": "stdout",
     "output_type": "stream",
     "text": [
      "              precision    recall  f1-score   support\n",
      "\n",
      "           0       0.78      0.02      0.04      6202\n",
      "           1       0.90      1.00      0.95     56169\n",
      "\n",
      "    accuracy                           0.90     62371\n",
      "   macro avg       0.84      0.51      0.50     62371\n",
      "weighted avg       0.89      0.90      0.86     62371\n",
      "\n"
     ]
    }
   ],
   "source": [
    "# preliminary model\n",
    "\n",
    "mult_nb = Pipeline([\n",
    "    ('vect', CountVectorizer()),\n",
    "    ('tfidf', TfidfTransformer()),\n",
    "    ('clf', MultinomialNB()),\n",
    "])\n",
    "\n",
    "mult_nb.fit(X_train, y_train)\n",
    "predicted = mult_nb.predict(X_test)\n",
    "\n",
    "print(classification_report(y_test, predicted))"
   ]
  },
  {
   "cell_type": "code",
   "execution_count": 9,
   "metadata": {},
   "outputs": [
    {
     "data": {
      "image/png": "[encoded data removed]",
      "text/plain": [
       "<Figure size 432x288 with 1 Axes>"
      ]
     },
     "metadata": {},
     "output_type": "display_data"
    }
   ],
   "source": [
    "# visualize baseline model performance\n",
    "\n",
    "labels = ['Dummy\\n(stratified)', 'Multinomial\\nNaive Bayes']\n",
    "neg_f1 = [0.1, .04]\n",
    "pos_f1 = [0.9, .95]\n",
    "acc = [0.82, 0.9]\n",
    "\n",
    "x = np.arange(len(labels))  # the label locations\n",
    "width = 0.2  # the width of the bars\n",
    "\n",
    "fig, ax = plt.subplots()\n",
    "ax.bar(x - width, neg_f1, width, label='Negative F1')\n",
    "ax.bar(x, pos_f1, width, label='Positive F1')\n",
    "ax.bar(x + width, acc, width, label='Accuracy')\n",
    "\n",
    "# Add some text for labels, title and custom x-axis tick labels, etc.\n",
    "ax.set_ylabel('Performance score')\n",
    "ax.set_title('Baseline Model Performance')\n",
    "ax.set_xticks(x)\n",
    "ax.set_xticklabels(labels)\n",
    "ax.legend()\n",
    "fig.tight_layout()\n",
    "plt.savefig('../img/baseline_model_performance.png', dpi=300)"
   ]
  },
  {
   "cell_type": "code",
   "execution_count": 38,
   "metadata": {},
   "outputs": [
    {
     "data": {
      "text/plain": [
       "(337300,)"
      ]
     },
     "execution_count": 38,
     "metadata": {},
     "output_type": "execute_result"
    }
   ],
   "source": [
    "# oversample from minority class for training data\n",
    "\n",
    "X_train = np.array(X_train).reshape(-1,1)\n",
    "y_train = np.array(y_train)\n",
    "\n",
    "ros = RandomOverSampler()\n",
    "X_resampled, y_resampled = ros.fit_resample(X_train, y_train)\n",
    "\n",
    "X_train_resampled = np.concatenate(X_resampled, axis=0)\n",
    "y_train_resampled = y_resampled\n",
    "X_train_resampled.shape"
   ]
  },
  {
   "cell_type": "code",
   "execution_count": 13,
   "metadata": {},
   "outputs": [
    {
     "name": "stdout",
     "output_type": "stream",
     "text": [
      "              precision    recall  f1-score   support\n",
      "\n",
      "           0       0.44      0.89      0.59      6202\n",
      "           1       0.99      0.87      0.93     56169\n",
      "\n",
      "    accuracy                           0.88     62371\n",
      "   macro avg       0.71      0.88      0.76     62371\n",
      "weighted avg       0.93      0.88      0.89     62371\n",
      "\n"
     ]
    }
   ],
   "source": [
    "# rerun the baseline Naive Bayes model with oversampling\n",
    "\n",
    "mult_nb.fit(X_train_resampled, y_train_resampled)\n",
    "predicted = mult_nb.predict(X_test)\n",
    "\n",
    "print(classification_report(y_test, predicted))"
   ]
  },
  {
   "cell_type": "code",
   "execution_count": 32,
   "metadata": {},
   "outputs": [
    {
     "name": "stdout",
     "output_type": "stream",
     "text": [
      "              precision    recall  f1-score   support\n",
      "\n",
      "           0       0.43      0.87      0.58      6202\n",
      "           1       0.98      0.87      0.93     56169\n",
      "\n",
      "    accuracy                           0.87     62371\n",
      "   macro avg       0.71      0.87      0.75     62371\n",
      "weighted avg       0.93      0.87      0.89     62371\n",
      "\n"
     ]
    }
   ],
   "source": [
    "comp_nb = Pipeline([\n",
    "    ('vect', CountVectorizer(stop_words = 'english')),\n",
    "    ('tfidf', TfidfTransformer()),\n",
    "    ('clf', ComplementNB()),\n",
    "])\n",
    "\n",
    "comp_nb.fit(X_train_resampled, y_train_resampled)\n",
    "predicted = comp_nb.predict(X_test)\n",
    "\n",
    "print(classification_report(y_test, predicted))"
   ]
  },
  {
   "cell_type": "code",
   "execution_count": 21,
   "metadata": {},
   "outputs": [],
   "source": [
    "stop_words_updated = text.ENGLISH_STOP_WORDS"
   ]
  },
  {
   "cell_type": "code",
   "execution_count": 45,
   "metadata": {},
   "outputs": [
    {
     "data": {
      "text/plain": [
       "TfidfTransformer()"
      ]
     },
     "execution_count": 45,
     "metadata": {},
     "output_type": "execute_result"
    }
   ],
   "source": [
    "# substantial improvement in model performance, now create the vectors to run\n",
    "# many models using the same training inputs\n",
    "\n",
    "cv = CountVectorizer(stop_words=stop_words_updated, max_features = 1000)\n",
    "tfidf = TfidfTransformer()\n",
    "\n",
    "X_cv = cv.fit_transform(X_train_resampled)\n",
    "tfidf.fit(X_cv)"
   ]
  },
  {
   "cell_type": "code",
   "execution_count": 44,
   "metadata": {},
   "outputs": [
    {
     "ename": "AttributeError",
     "evalue": "'TfidfTransformer' object has no attribute 'reshape'",
     "output_type": "error",
     "traceback": [
      "\u001b[0;31m---------------------------------------------------------------------------\u001b[0m",
      "\u001b[0;31mAttributeError\u001b[0m                            Traceback (most recent call last)",
      "\u001b[0;32m<ipython-input-44-096eb4cf1384>\u001b[0m in \u001b[0;36m<module>\u001b[0;34m\u001b[0m\n\u001b[1;32m      1\u001b[0m \u001b[0mcomp_nb_model\u001b[0m \u001b[0;34m=\u001b[0m \u001b[0mComplementNB\u001b[0m\u001b[0;34m(\u001b[0m\u001b[0;34m)\u001b[0m\u001b[0;34m\u001b[0m\u001b[0;34m\u001b[0m\u001b[0m\n\u001b[0;32m----> 2\u001b[0;31m \u001b[0mcomp_nb_model\u001b[0m\u001b[0;34m.\u001b[0m\u001b[0mfit\u001b[0m\u001b[0;34m(\u001b[0m\u001b[0mX_tfidf\u001b[0m\u001b[0;34m.\u001b[0m\u001b[0mreshape\u001b[0m\u001b[0;34m(\u001b[0m\u001b[0;34m-\u001b[0m\u001b[0;36m1\u001b[0m\u001b[0;34m,\u001b[0m\u001b[0;36m1\u001b[0m\u001b[0;34m)\u001b[0m\u001b[0;34m,\u001b[0m \u001b[0my_train_resampled\u001b[0m\u001b[0;34m)\u001b[0m\u001b[0;34m\u001b[0m\u001b[0;34m\u001b[0m\u001b[0m\n\u001b[0m\u001b[1;32m      3\u001b[0m \u001b[0;31m# predicted = comp_nb_model.predict(X_test, y_test)\u001b[0m\u001b[0;34m\u001b[0m\u001b[0;34m\u001b[0m\u001b[0;34m\u001b[0m\u001b[0m\n\u001b[1;32m      4\u001b[0m \u001b[0;34m\u001b[0m\u001b[0m\n\u001b[1;32m      5\u001b[0m \u001b[0;31m# print(classification_report(y_test, predicted))\u001b[0m\u001b[0;34m\u001b[0m\u001b[0;34m\u001b[0m\u001b[0;34m\u001b[0m\u001b[0m\n",
      "\u001b[0;31mAttributeError\u001b[0m: 'TfidfTransformer' object has no attribute 'reshape'"
     ]
    }
   ],
   "source": [
    "comp_nb_model = ComplementNB()\n",
    "comp_nb_model.fit(X_tfidf.reshape(-1,1), y_train_resampled)\n",
    "# predicted = comp_nb_model.predict(X_test, y_test)\n",
    "\n",
    "# print(classification_report(y_test, predicted))"
   ]
  },
  {
   "cell_type": "code",
   "execution_count": 25,
   "metadata": {},
   "outputs": [
    {
     "data": {
      "text/plain": [
       "Pipeline(steps=[('vect',\n",
       "                 CountVectorizer(stop_words=frozenset({'a', 'about', 'above',\n",
       "                                                       'across', 'after',\n",
       "                                                       'afterwards', 'again',\n",
       "                                                       'against', 'all',\n",
       "                                                       'almost', 'alone',\n",
       "                                                       'along', 'already',\n",
       "                                                       'also', 'although',\n",
       "                                                       'always', 'am', 'among',\n",
       "                                                       'amongst', 'amoungst',\n",
       "                                                       'amount', 'an', 'and',\n",
       "                                                       'another', 'any',\n",
       "                                                       'anyhow', 'anyone',\n",
       "                                                       'anything', 'anyway',\n",
       "                                                       'anywhere', ...}))),\n",
       "                ('tfidf', TfidfTransformer())])"
      ]
     },
     "execution_count": 25,
     "metadata": {},
     "output_type": "execute_result"
    }
   ],
   "source": []
  },
  {
   "cell_type": "code",
   "execution_count": null,
   "metadata": {},
   "outputs": [],
   "source": []
  },
  {
   "cell_type": "code",
   "execution_count": null,
   "metadata": {},
   "outputs": [],
   "source": []
  },
  {
   "cell_type": "code",
   "execution_count": null,
   "metadata": {},
   "outputs": [],
   "source": [
    "# # oversample from minority class\n",
    "\n",
    "# X = np.array(comedy_reviews['content']).reshape(-1,1)\n",
    "# y = np.array(comedy_reviews['rating'].apply(lambda x: 1 if x > 3 else 0))\n",
    "\n",
    "# ros = RandomOverSampler()\n",
    "# X_resampled, y_resampled = ros.fit_resample(X, y)\n",
    "\n",
    "# X_train, X_test, y_train, y_test = train_test_split(np.concatenate(X_resampled, axis=0), y_resampled)"
   ]
  },
  {
   "cell_type": "code",
   "execution_count": null,
   "metadata": {},
   "outputs": [],
   "source": [
    "# text_clf_v2.fit(X_train, y_train)\n",
    "# predicted = text_clf_v2.predict(X_test)\n",
    "\n",
    "# print(classification_report(y_test, predicted))"
   ]
  },
  {
   "cell_type": "code",
   "execution_count": null,
   "metadata": {},
   "outputs": [],
   "source": [
    "# # get most prominent features\n",
    "# text_clf_v2['clf'].get_params\n",
    "# # coefs = np.array(text_clf_v2['clf'].coef_)\n",
    "# # bag = text_clf_v2['vect'].get_feature_names()"
   ]
  }
 ],
 "metadata": {
  "kernelspec": {
   "display_name": "Python 3",
   "language": "python",
   "name": "python3"
  },
  "language_info": {
   "codemirror_mode": {
    "name": "ipython",
    "version": 3
   },
   "file_extension": ".py",
   "mimetype": "text/x-python",
   "name": "python",
   "nbconvert_exporter": "python",
   "pygments_lexer": "ipython3",
   "version": "3.8.10"
  }
 },
 "nbformat": 4,
 "nbformat_minor": 2
}
