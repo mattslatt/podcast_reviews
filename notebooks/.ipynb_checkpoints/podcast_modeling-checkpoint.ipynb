{
 "cells": [
  {
   "cell_type": "code",
   "execution_count": 1,
   "metadata": {},
   "outputs": [],
   "source": [
    "import sqlite3\n",
    "import pandas as pd\n",
    "import numpy as np\n",
    "import matplotlib as plt\n",
    "\n",
    "from collections import Counter\n",
    "from sklearn.model_selection import train_test_split\n",
    "from sklearn.metrics import classification_report, confusion_matrix\n",
    "from sklearn.feature_extraction.text import CountVectorizer, TfidfTransformer, TfidfVectorizer\n",
    "from sklearn.naive_bayes import MultinomialNB, ComplementNB\n",
    "from sklearn.pipeline import Pipeline\n",
    "from sklearn.dummy import DummyClassifier\n",
    "\n",
    "from imblearn.over_sampling import RandomOverSampler"
   ]
  },
  {
   "cell_type": "code",
   "execution_count": 2,
   "metadata": {},
   "outputs": [],
   "source": [
    "# connect to SQL database and convert to dataframes\n",
    "\n",
    "cnx = sqlite3.connect('../data/database.sqlite')\n",
    "\n",
    "categories = pd.read_sql_query(\"SELECT * FROM categories\", cnx)\n",
    "reviews = pd.read_sql_query(\"SELECT * FROM reviews\", cnx)\n",
    "podcasts = pd.read_sql_query(\"SELECT * FROM podcasts\", cnx)"
   ]
  },
  {
   "cell_type": "code",
   "execution_count": 3,
   "metadata": {},
   "outputs": [
    {
     "data": {
      "text/html": [
       "<div>\n",
       "<style scoped>\n",
       "    .dataframe tbody tr th:only-of-type {\n",
       "        vertical-align: middle;\n",
       "    }\n",
       "\n",
       "    .dataframe tbody tr th {\n",
       "        vertical-align: top;\n",
       "    }\n",
       "\n",
       "    .dataframe thead th {\n",
       "        text-align: right;\n",
       "    }\n",
       "</style>\n",
       "<table border=\"1\" class=\"dataframe\">\n",
       "  <thead>\n",
       "    <tr style=\"text-align: right;\">\n",
       "      <th></th>\n",
       "      <th>podcast_id</th>\n",
       "      <th>itunes_id</th>\n",
       "      <th>slug</th>\n",
       "      <th>itunes_url</th>\n",
       "      <th>title</th>\n",
       "    </tr>\n",
       "  </thead>\n",
       "  <tbody>\n",
       "  </tbody>\n",
       "</table>\n",
       "</div>"
      ],
      "text/plain": [
       "Empty DataFrame\n",
       "Columns: [podcast_id, itunes_id, slug, itunes_url, title]\n",
       "Index: []"
      ]
     },
     "execution_count": 3,
     "metadata": {},
     "output_type": "execute_result"
    }
   ],
   "source": [
    "# top 5 grossing podcasts according to statista\n",
    "\n",
    "podcasts[podcasts['slug'].str.contains('armchair')]\n",
    "podcasts[podcasts['slug'].str.contains('joe-rogan')]\n",
    "podcasts[podcasts['slug'].str.contains('my-favorite')]\n",
    "podcasts[podcasts['slug'].str.contains('dave-ram')]\n",
    "podcasts[podcasts['slug'].str.contains('bill-simmons')]"
   ]
  },
  {
   "cell_type": "code",
   "execution_count": 4,
   "metadata": {},
   "outputs": [
    {
     "name": "stdout",
     "output_type": "stream",
     "text": [
      "                             podcast_id category\n",
      "10736  d4baff0192b5f556b0c3f2a273e98e93   comedy\n",
      "10737  d4baff0192b5f556b0c3f2a273e98e93  tv-film\n",
      "                             podcast_id category\n",
      "10731  db93a05fe337aea2061b59c96e647100   comedy\n",
      "                             podcast_id category\n",
      "10732  bc5ddad3898e0973eb541577d1df8004   comedy\n"
     ]
    }
   ],
   "source": [
    "# categories for armchair expert\n",
    "print(categories[categories['podcast_id'] == 'd4baff0192b5f556b0c3f2a273e98e93'])\n",
    "\n",
    "# categories for JRE\n",
    "print(categories[categories['podcast_id'] == 'db93a05fe337aea2061b59c96e647100'])\n",
    "\n",
    "# categories for my favorite murder\n",
    "print(categories[categories['podcast_id'] == 'bc5ddad3898e0973eb541577d1df8004'])"
   ]
  },
  {
   "cell_type": "code",
   "execution_count": 5,
   "metadata": {},
   "outputs": [],
   "source": [
    "# merge categories and reviews columns to collect comedy review data\n",
    "\n",
    "reviews_categories = pd.merge(reviews, categories)\n",
    "comedy_reviews = reviews_categories[reviews_categories['category'] == 'comedy']"
   ]
  },
  {
   "cell_type": "code",
   "execution_count": 19,
   "metadata": {},
   "outputs": [
    {
     "name": "stdout",
     "output_type": "stream",
     "text": [
      "249482 total comedy reviews\n"
     ]
    }
   ],
   "source": [
    "# extract comedy reviews from dataframe\n",
    "\n",
    "print('{} total comedy reviews'.format(len(comedy_reviews)))\n",
    "\n",
    "X = comedy_reviews['content']\n",
    "y = comedy_reviews['rating'].apply(lambda x: 1 if x > 3 else 0)\n",
    "\n",
    "X_train, X_test, y_train, y_test = train_test_split(X, y)"
   ]
  },
  {
   "cell_type": "code",
   "execution_count": 9,
   "metadata": {},
   "outputs": [
    {
     "name": "stdout",
     "output_type": "stream",
     "text": [
      "              precision    recall  f1-score   support\n",
      "\n",
      "           0       0.75      0.02      0.04      6221\n",
      "           1       0.90      1.00      0.95     56150\n",
      "\n",
      "    accuracy                           0.90     62371\n",
      "   macro avg       0.82      0.51      0.49     62371\n",
      "weighted avg       0.89      0.90      0.86     62371\n",
      "\n"
     ]
    }
   ],
   "source": [
    "# preliminary model\n",
    "\n",
    "text_clf_v1 = Pipeline([\n",
    "    ('vect', CountVectorizer()),\n",
    "    ('tfidf', TfidfTransformer()),\n",
    "    ('clf', MultinomialNB()),\n",
    "])\n",
    "\n",
    "text_clf_v1.fit(X_train, y_train)\n",
    "predicted = text_clf_v1.predict(X_test)\n",
    "\n",
    "print(classification_report(y_test, predicted))"
   ]
  },
  {
   "cell_type": "code",
   "execution_count": 31,
   "metadata": {},
   "outputs": [
    {
     "name": "stdout",
     "output_type": "stream",
     "text": [
      "              precision    recall  f1-score   support\n",
      "\n",
      "           0       0.88      0.93      0.90     56114\n",
      "           1       0.92      0.87      0.90     56296\n",
      "\n",
      "    accuracy                           0.90    112410\n",
      "   macro avg       0.90      0.90      0.90    112410\n",
      "weighted avg       0.90      0.90      0.90    112410\n",
      "\n"
     ]
    }
   ],
   "source": [
    "# add stop words, change to complement NB\n",
    "\n",
    "text_clf_v2 = Pipeline([\n",
    "    ('vect', CountVectorizer(stop_words = 'english')),\n",
    "    ('tfidf', TfidfTransformer()),\n",
    "    ('clf', ComplementNB()),\n",
    "])\n",
    "\n",
    "text_clf_v2.fit(X_train, y_train)\n",
    "predicted = text_clf_v2.predict(X_test)\n",
    "\n",
    "print(classification_report(y_test, predicted))"
   ]
  },
  {
   "cell_type": "code",
   "execution_count": 21,
   "metadata": {},
   "outputs": [],
   "source": [
    "X = np.array(comedy_reviews['content']).reshape(-1,1)\n",
    "y = np.array(comedy_reviews['rating'].apply(lambda x: 1 if x > 3 else 0))"
   ]
  },
  {
   "cell_type": "code",
   "execution_count": 27,
   "metadata": {},
   "outputs": [],
   "source": [
    "# oversample from minority class\n",
    "\n",
    "ros = RandomOverSampler()\n",
    "X_resampled, y_resampled = ros.fit_resample(X, y)\n",
    "\n",
    "X_train, X_test, y_train, y_test = train_test_split(np.concatenate(X_resampled, axis=0), y_resampled)"
   ]
  },
  {
   "cell_type": "code",
   "execution_count": 32,
   "metadata": {},
   "outputs": [
    {
     "name": "stdout",
     "output_type": "stream",
     "text": [
      "              precision    recall  f1-score   support\n",
      "\n",
      "           0       0.88      0.93      0.90     56114\n",
      "           1       0.92      0.87      0.90     56296\n",
      "\n",
      "    accuracy                           0.90    112410\n",
      "   macro avg       0.90      0.90      0.90    112410\n",
      "weighted avg       0.90      0.90      0.90    112410\n",
      "\n"
     ]
    }
   ],
   "source": [
    "text_clf_v2.fit(X_train, y_train)\n",
    "predicted = text_clf_v2.predict(X_test)\n",
    "\n",
    "print(classification_report(y_test, predicted))"
   ]
  },
  {
   "cell_type": "code",
   "execution_count": 42,
   "metadata": {},
   "outputs": [
    {
     "data": {
      "text/plain": [
       "<bound method BaseEstimator.get_params of ComplementNB()>"
      ]
     },
     "execution_count": 42,
     "metadata": {},
     "output_type": "execute_result"
    }
   ],
   "source": [
    "# get most prominent features\n",
    "text_clf_v2['clf'].get_params\n",
    "# coefs = np.array(text_clf_v2['clf'].coef_)\n",
    "# bag = text_clf_v2['vect'].get_feature_names()"
   ]
  }
 ],
 "metadata": {
  "kernelspec": {
   "display_name": "Python 3",
   "language": "python",
   "name": "python3"
  },
  "language_info": {
   "codemirror_mode": {
    "name": "ipython",
    "version": 3
   },
   "file_extension": ".py",
   "mimetype": "text/x-python",
   "name": "python",
   "nbconvert_exporter": "python",
   "pygments_lexer": "ipython3",
   "version": "3.8.10"
  }
 },
 "nbformat": 4,
 "nbformat_minor": 2
}
