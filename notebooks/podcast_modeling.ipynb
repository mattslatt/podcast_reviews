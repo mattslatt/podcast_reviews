{
 "cells": [
  {
   "cell_type": "code",
   "execution_count": 1,
   "source": [
    "import sqlite3\n",
    "import pandas as pd\n",
    "import numpy as np\n",
    "import matplotlib.pyplot as plt\n",
    "plt.style.use('ggplot')\n",
    "\n",
    "from collections import Counter\n",
    "from sklearn.model_selection import train_test_split\n",
    "from sklearn.metrics import classification_report, confusion_matrix\n",
    "from imblearn.over_sampling import RandomOverSampler\n",
    "\n",
    "from sklearn.feature_extraction.text import CountVectorizer, TfidfTransformer\n",
    "from sklearn.feature_extraction import text \n",
    "\n",
    "from sklearn.dummy import DummyClassifier\n",
    "from sklearn.naive_bayes import MultinomialNB, ComplementNB\n",
    "from sklearn.linear_model import SGDClassifier\n",
    "from sklearn.ensemble import RandomForestClassifier\n",
    "\n",
    "from sklearn.pipeline import Pipeline\n",
    "from sklearn.model_selection import GridSearchCV\n",
    "\n",
    "\n",
    "from sklearn.decomposition import LatentDirichletAllocation\n",
    "\n",
    "from nltk.corpus import stopwords"
   ],
   "outputs": [],
   "metadata": {}
  },
  {
   "cell_type": "code",
   "execution_count": 2,
   "source": [
    "# connect to SQL database and convert to dataframes\n",
    "\n",
    "cnx = sqlite3.connect('../data/database.sqlite')\n",
    "\n",
    "categories = pd.read_sql_query(\"SELECT * FROM categories\", cnx)\n",
    "reviews = pd.read_sql_query(\"SELECT * FROM reviews\", cnx)\n",
    "podcasts = pd.read_sql_query(\"SELECT * FROM podcasts\", cnx)"
   ],
   "outputs": [],
   "metadata": {}
  },
  {
   "cell_type": "code",
   "execution_count": 3,
   "source": [
    "# top 5 grossing podcasts according to statista\n",
    "\n",
    "podcasts[podcasts['slug'].str.contains('armchair')]\n",
    "podcasts[podcasts['slug'].str.contains('joe-rogan')]\n",
    "podcasts[podcasts['slug'].str.contains('my-favorite')]\n",
    "podcasts[podcasts['slug'].str.contains('dave-ram')]\n",
    "podcasts[podcasts['slug'].str.contains('bill-simmons')]"
   ],
   "outputs": [
    {
     "output_type": "execute_result",
     "data": {
      "text/plain": [
       "Empty DataFrame\n",
       "Columns: [podcast_id, itunes_id, slug, itunes_url, title]\n",
       "Index: []"
      ],
      "text/html": [
       "<div>\n",
       "<style scoped>\n",
       "    .dataframe tbody tr th:only-of-type {\n",
       "        vertical-align: middle;\n",
       "    }\n",
       "\n",
       "    .dataframe tbody tr th {\n",
       "        vertical-align: top;\n",
       "    }\n",
       "\n",
       "    .dataframe thead th {\n",
       "        text-align: right;\n",
       "    }\n",
       "</style>\n",
       "<table border=\"1\" class=\"dataframe\">\n",
       "  <thead>\n",
       "    <tr style=\"text-align: right;\">\n",
       "      <th></th>\n",
       "      <th>podcast_id</th>\n",
       "      <th>itunes_id</th>\n",
       "      <th>slug</th>\n",
       "      <th>itunes_url</th>\n",
       "      <th>title</th>\n",
       "    </tr>\n",
       "  </thead>\n",
       "  <tbody>\n",
       "  </tbody>\n",
       "</table>\n",
       "</div>"
      ]
     },
     "metadata": {},
     "execution_count": 3
    }
   ],
   "metadata": {}
  },
  {
   "cell_type": "code",
   "execution_count": 4,
   "source": [
    "# categories for armchair expert\n",
    "print(categories[categories['podcast_id'] == 'd4baff0192b5f556b0c3f2a273e98e93'])\n",
    "\n",
    "# categories for JRE\n",
    "print(categories[categories['podcast_id'] == 'db93a05fe337aea2061b59c96e647100'])\n",
    "\n",
    "# categories for my favorite murder\n",
    "print(categories[categories['podcast_id'] == 'bc5ddad3898e0973eb541577d1df8004'])"
   ],
   "outputs": [
    {
     "output_type": "stream",
     "name": "stdout",
     "text": [
      "                             podcast_id category\n",
      "10736  d4baff0192b5f556b0c3f2a273e98e93   comedy\n",
      "10737  d4baff0192b5f556b0c3f2a273e98e93  tv-film\n",
      "                             podcast_id category\n",
      "10731  db93a05fe337aea2061b59c96e647100   comedy\n",
      "                             podcast_id category\n",
      "10732  bc5ddad3898e0973eb541577d1df8004   comedy\n"
     ]
    }
   ],
   "metadata": {}
  },
  {
   "cell_type": "code",
   "execution_count": 5,
   "source": [
    "# merge categories and reviews columns to collect comedy review data\n",
    "\n",
    "reviews_categories = pd.merge(reviews, categories)\n",
    "comedy_reviews = reviews_categories[reviews_categories['category'] == 'comedy']\n",
    "print('{} total comedy reviews'.format(len(comedy_reviews)))\n",
    "print('{} unique comedy podcasts'.format(len(comedy_reviews['podcast_id'].unique())))"
   ],
   "outputs": [
    {
     "output_type": "stream",
     "name": "stdout",
     "text": [
      "249482 total comedy reviews\n",
      "8080 unique comedy podcasts\n"
     ]
    }
   ],
   "metadata": {}
  },
  {
   "cell_type": "code",
   "execution_count": 37,
   "source": [
    "# extract comedy reviews from dataframe\n",
    "\n",
    "print('{} total comedy reviews'.format(len(comedy_reviews)))\n",
    "\n",
    "X = comedy_reviews['content']\n",
    "y = comedy_reviews['rating'].apply(lambda x: 1 if x > 3 else 0)\n",
    "\n",
    "X_train, X_test, y_train, y_test = train_test_split(X, y)"
   ],
   "outputs": [
    {
     "output_type": "stream",
     "name": "stdout",
     "text": [
      "249482 total comedy reviews\n"
     ]
    }
   ],
   "metadata": {}
  },
  {
   "cell_type": "code",
   "execution_count": 7,
   "source": [
    "# dummy modeling\n",
    "\n",
    "dclf_stratified = DummyClassifier(strategy = 'stratified')\n",
    "dclf_stratified.fit(X_train, y_train)\n",
    "predicted_stratified = dclf_stratified.predict(X_test)\n",
    "print(classification_report(y_test, predicted_stratified))"
   ],
   "outputs": [
    {
     "output_type": "stream",
     "name": "stdout",
     "text": [
      "              precision    recall  f1-score   support\n",
      "\n",
      "           0       0.10      0.10      0.10      6246\n",
      "           1       0.90      0.90      0.90     56125\n",
      "\n",
      "    accuracy                           0.82     62371\n",
      "   macro avg       0.50      0.50      0.50     62371\n",
      "weighted avg       0.82      0.82      0.82     62371\n",
      "\n"
     ]
    }
   ],
   "metadata": {}
  },
  {
   "cell_type": "code",
   "execution_count": 8,
   "source": [
    "# preliminary model\n",
    "sw = stopwords.words(\"english\")\n",
    "\n",
    "mult_nb = Pipeline([\n",
    "    ('vect', CountVectorizer(stop_words = sw)),\n",
    "    ('tfidf', TfidfTransformer()),\n",
    "    ('clf', MultinomialNB()),\n",
    "])\n",
    "\n",
    "mult_nb.fit(X_train, y_train)\n",
    "predicted = mult_nb.predict(X_test)\n",
    "\n",
    "print(classification_report(y_test, predicted))"
   ],
   "outputs": [
    {
     "output_type": "stream",
     "name": "stdout",
     "text": [
      "              precision    recall  f1-score   support\n",
      "\n",
      "           0       0.86      0.03      0.06      6246\n",
      "           1       0.90      1.00      0.95     56125\n",
      "\n",
      "    accuracy                           0.90     62371\n",
      "   macro avg       0.88      0.52      0.50     62371\n",
      "weighted avg       0.90      0.90      0.86     62371\n",
      "\n"
     ]
    }
   ],
   "metadata": {}
  },
  {
   "cell_type": "code",
   "execution_count": 9,
   "source": [
    "# visualize baseline model performance\n",
    "\n",
    "labels = ['Dummy\\n(stratified)', 'Multinomial\\nNaive Bayes']\n",
    "neg_f1 = [0.1, .07]\n",
    "pos_f1 = [0.9, .95]\n",
    "acc = [0.82, 0.90]\n",
    "\n",
    "x = np.arange(len(labels))\n",
    "width = 0.2 \n",
    "\n",
    "fig, ax = plt.subplots()\n",
    "ax.bar(x - width, neg_f1, width, label='Negative F1')\n",
    "ax.bar(x, pos_f1, width, label='Positive F1')\n",
    "ax.bar(x + width, acc, width, label='Accuracy')\n",
    "\n",
    "ax.set_ylabel('Performance score')\n",
    "ax.set_title('Baseline Model Performance')\n",
    "ax.set_xticks(x)\n",
    "ax.set_xticklabels(labels)\n",
    "ax.legend()\n",
    "fig.tight_layout()\n",
    "plt.savefig('../img/baseline_model_performance.png', dpi=300)"
   ],
   "outputs": [
    {
     "output_type": "display_data",
     "data": {
      "text/plain": [
       "<Figure size 432x288 with 1 Axes>"
      ],
      "image/png": "[encoded data removed]"
     },
     "metadata": {}
    }
   ],
   "metadata": {}
  },
  {
   "cell_type": "code",
   "execution_count": 38,
   "source": [
    "# oversample from minority class for training data\n",
    "\n",
    "X_train = np.array(X_train).reshape(-1,1)\n",
    "y_train = np.array(y_train)\n",
    "\n",
    "ros = RandomOverSampler()\n",
    "X_resampled, y_resampled = ros.fit_resample(X_train, y_train)\n",
    "\n",
    "X_train_resampled = np.concatenate(X_resampled, axis=0)\n",
    "y_train_resampled = y_resampled\n",
    "X_train_resampled.shape"
   ],
   "outputs": [
    {
     "output_type": "execute_result",
     "data": {
      "text/plain": [
       "(337222,)"
      ]
     },
     "metadata": {},
     "execution_count": 38
    }
   ],
   "metadata": {}
  },
  {
   "cell_type": "code",
   "execution_count": 12,
   "source": [
    "# expand stop words based on high count words\n",
    "\n",
    "vectorizer = CountVectorizer(stop_words=sw)\n",
    "word_counts = vectorizer.fit_transform(X_train.ravel()).sum(axis=0)\n",
    "features = vectorizer.get_feature_names()\n",
    "\n",
    "counts_df = pd.DataFrame(index=features, data=word_counts.T, columns=['counts'])\n",
    "counts_df.sort_values('counts', ascending=False, inplace=True)\n",
    "\n",
    "counts_df[:30]"
   ],
   "outputs": [
    {
     "output_type": "execute_result",
     "data": {
      "text/plain": [
       "           counts\n",
       "podcast    100715\n",
       "love        71077\n",
       "listen      38435\n",
       "like        37726\n",
       "great       36863\n",
       "show        35611\n",
       "listening   29116\n",
       "one         25820\n",
       "guys        25333\n",
       "funny       24095\n",
       "episode     23066\n",
       "good        20724\n",
       "get         20604\n",
       "keep        19918\n",
       "really      19733\n",
       "every       19369\n",
       "time        19216\n",
       "best        18244\n",
       "much        17889\n",
       "work        15725\n",
       "people      14992\n",
       "always      14893\n",
       "episodes    14859\n",
       "podcasts    14384\n",
       "also        14081\n",
       "hilarious   13728\n",
       "know        13711\n",
       "make        13711\n",
       "would       13594\n",
       "fun         13178"
      ],
      "text/html": [
       "<div>\n",
       "<style scoped>\n",
       "    .dataframe tbody tr th:only-of-type {\n",
       "        vertical-align: middle;\n",
       "    }\n",
       "\n",
       "    .dataframe tbody tr th {\n",
       "        vertical-align: top;\n",
       "    }\n",
       "\n",
       "    .dataframe thead th {\n",
       "        text-align: right;\n",
       "    }\n",
       "</style>\n",
       "<table border=\"1\" class=\"dataframe\">\n",
       "  <thead>\n",
       "    <tr style=\"text-align: right;\">\n",
       "      <th></th>\n",
       "      <th>counts</th>\n",
       "    </tr>\n",
       "  </thead>\n",
       "  <tbody>\n",
       "    <tr>\n",
       "      <th>podcast</th>\n",
       "      <td>100715</td>\n",
       "    </tr>\n",
       "    <tr>\n",
       "      <th>love</th>\n",
       "      <td>71077</td>\n",
       "    </tr>\n",
       "    <tr>\n",
       "      <th>listen</th>\n",
       "      <td>38435</td>\n",
       "    </tr>\n",
       "    <tr>\n",
       "      <th>like</th>\n",
       "      <td>37726</td>\n",
       "    </tr>\n",
       "    <tr>\n",
       "      <th>great</th>\n",
       "      <td>36863</td>\n",
       "    </tr>\n",
       "    <tr>\n",
       "      <th>show</th>\n",
       "      <td>35611</td>\n",
       "    </tr>\n",
       "    <tr>\n",
       "      <th>listening</th>\n",
       "      <td>29116</td>\n",
       "    </tr>\n",
       "    <tr>\n",
       "      <th>one</th>\n",
       "      <td>25820</td>\n",
       "    </tr>\n",
       "    <tr>\n",
       "      <th>guys</th>\n",
       "      <td>25333</td>\n",
       "    </tr>\n",
       "    <tr>\n",
       "      <th>funny</th>\n",
       "      <td>24095</td>\n",
       "    </tr>\n",
       "    <tr>\n",
       "      <th>episode</th>\n",
       "      <td>23066</td>\n",
       "    </tr>\n",
       "    <tr>\n",
       "      <th>good</th>\n",
       "      <td>20724</td>\n",
       "    </tr>\n",
       "    <tr>\n",
       "      <th>get</th>\n",
       "      <td>20604</td>\n",
       "    </tr>\n",
       "    <tr>\n",
       "      <th>keep</th>\n",
       "      <td>19918</td>\n",
       "    </tr>\n",
       "    <tr>\n",
       "      <th>really</th>\n",
       "      <td>19733</td>\n",
       "    </tr>\n",
       "    <tr>\n",
       "      <th>every</th>\n",
       "      <td>19369</td>\n",
       "    </tr>\n",
       "    <tr>\n",
       "      <th>time</th>\n",
       "      <td>19216</td>\n",
       "    </tr>\n",
       "    <tr>\n",
       "      <th>best</th>\n",
       "      <td>18244</td>\n",
       "    </tr>\n",
       "    <tr>\n",
       "      <th>much</th>\n",
       "      <td>17889</td>\n",
       "    </tr>\n",
       "    <tr>\n",
       "      <th>work</th>\n",
       "      <td>15725</td>\n",
       "    </tr>\n",
       "    <tr>\n",
       "      <th>people</th>\n",
       "      <td>14992</td>\n",
       "    </tr>\n",
       "    <tr>\n",
       "      <th>always</th>\n",
       "      <td>14893</td>\n",
       "    </tr>\n",
       "    <tr>\n",
       "      <th>episodes</th>\n",
       "      <td>14859</td>\n",
       "    </tr>\n",
       "    <tr>\n",
       "      <th>podcasts</th>\n",
       "      <td>14384</td>\n",
       "    </tr>\n",
       "    <tr>\n",
       "      <th>also</th>\n",
       "      <td>14081</td>\n",
       "    </tr>\n",
       "    <tr>\n",
       "      <th>hilarious</th>\n",
       "      <td>13728</td>\n",
       "    </tr>\n",
       "    <tr>\n",
       "      <th>know</th>\n",
       "      <td>13711</td>\n",
       "    </tr>\n",
       "    <tr>\n",
       "      <th>make</th>\n",
       "      <td>13711</td>\n",
       "    </tr>\n",
       "    <tr>\n",
       "      <th>would</th>\n",
       "      <td>13594</td>\n",
       "    </tr>\n",
       "    <tr>\n",
       "      <th>fun</th>\n",
       "      <td>13178</td>\n",
       "    </tr>\n",
       "  </tbody>\n",
       "</table>\n",
       "</div>"
      ]
     },
     "metadata": {},
     "execution_count": 12
    }
   ],
   "metadata": {}
  },
  {
   "cell_type": "code",
   "execution_count": 13,
   "source": [
    "sw = stopwords.words(\"english\")\n",
    "podcast_sw = ['podcast','episode','get','keep','episodes','podcasts','would']\n",
    "updated_sw = sw + podcast_sw"
   ],
   "outputs": [],
   "metadata": {}
  },
  {
   "cell_type": "code",
   "execution_count": 17,
   "source": [
    "# rerun the model with oversampling, new stop words, bigrams\n",
    "\n",
    "mult_nb = Pipeline([\n",
    "    ('vect', CountVectorizer(stop_words = updated_sw, ngram_range=(1,2))),\n",
    "    ('tfidf', TfidfTransformer()),\n",
    "    ('clf', MultinomialNB()),\n",
    "])\n",
    "mult_nb.fit(X_train_resampled, y_train_resampled)\n",
    "predicted = mult_nb.predict(X_test)\n",
    "\n",
    "print(classification_report(y_test, predicted))"
   ],
   "outputs": [
    {
     "output_type": "stream",
     "name": "stdout",
     "text": [
      "              precision    recall  f1-score   support\n",
      "\n",
      "           0       0.47      0.89      0.62      6246\n",
      "           1       0.99      0.89      0.93     56125\n",
      "\n",
      "    accuracy                           0.89     62371\n",
      "   macro avg       0.73      0.89      0.77     62371\n",
      "weighted avg       0.94      0.89      0.90     62371\n",
      "\n"
     ]
    }
   ],
   "metadata": {}
  },
  {
   "cell_type": "code",
   "execution_count": null,
   "source": [
    "# comp_nb = Pipeline([\n",
    "#     ('vect', CountVectorizer(stop_words = updated_sw, ngram_range=(1,2))),\n",
    "#     ('tfidf', TfidfTransformer()),\n",
    "#     ('clf', ComplementNB()),\n",
    "# ])\n",
    "# mult_nb.fit(X_train_resampled, y_train_resampled)\n",
    "# predicted = mult_nb.predict(X_test)\n",
    "\n",
    "# print(classification_report(y_test, predicted))"
   ],
   "outputs": [],
   "metadata": {}
  },
  {
   "cell_type": "code",
   "execution_count": 39,
   "source": [
    "sgdc = Pipeline([\n",
    "    ('vect', CountVectorizer(stop_words = updated_sw, ngram_range=(1,2))),\n",
    "    ('tfidf', TfidfTransformer()),\n",
    "    ('clf', SGDClassifier()),\n",
    "])\n",
    "\n",
    "sgdc.fit(X_train_resampled, y_train_resampled)\n",
    "predicted = sgdc.predict(X_test)\n",
    "\n",
    "print(classification_report(y_test, predicted))"
   ],
   "outputs": [
    {
     "output_type": "stream",
     "name": "stdout",
     "text": [
      "              precision    recall  f1-score   support\n",
      "\n",
      "           0       0.46      0.86      0.60      6163\n",
      "           1       0.98      0.89      0.93     56208\n",
      "\n",
      "    accuracy                           0.89     62371\n",
      "   macro avg       0.72      0.88      0.77     62371\n",
      "weighted avg       0.93      0.89      0.90     62371\n",
      "\n"
     ]
    }
   ],
   "metadata": {}
  },
  {
   "cell_type": "code",
   "execution_count": null,
   "source": [
    "# rf = Pipeline([\n",
    "#     ('vect', CountVectorizer(stop_words = updated_sw)),\n",
    "#     ('tfidf', TfidfTransformer()),\n",
    "#     ('clf', RandomForestClassifier(n_estimators=10)),\n",
    "# ])\n",
    "\n",
    "# rf.fit(X_train_resampled, y_train_resampled)\n",
    "# predicted = rf.predict(X_test)\n",
    "\n",
    "# print(classification_report(y_test, predicted))"
   ],
   "outputs": [],
   "metadata": {}
  },
  {
   "cell_type": "code",
   "execution_count": 18,
   "source": [
    "# visualize model performance with random oversampling\n",
    "\n",
    "labels = ['Multinomial\\nNaive Bayes', 'Linear Support\\nVector Machine']\n",
    "neg_f1 = [0.62, .61]\n",
    "pos_f1 = [0.93, .93]\n",
    "acc = [0.89, 0.89]\n",
    "\n",
    "x = np.arange(len(labels))  # the label locations\n",
    "width = 0.2  # the width of the bars\n",
    "\n",
    "fig, ax = plt.subplots()\n",
    "ax.bar(x - width, neg_f1, width, label='Negative F1')\n",
    "ax.bar(x, pos_f1, width, label='Positive F1')\n",
    "ax.bar(x + width, acc, width, label='Accuracy')\n",
    "\n",
    "# Add some text for labels, title and custom x-axis tick labels, etc.\n",
    "ax.set_ylabel('Performance score')\n",
    "ax.set_title('Updated Model Performance')\n",
    "ax.set_xticks(x)\n",
    "ax.set_xticklabels(labels)\n",
    "ax.legend()\n",
    "fig.tight_layout()\n",
    "plt.savefig('../img/updated_model_performance.png', dpi=300)"
   ],
   "outputs": [
    {
     "output_type": "display_data",
     "data": {
      "text/plain": [
       "<Figure size 432x288 with 1 Axes>"
      ],
      "image/png": "[encoded data removed]"
     },
     "metadata": {}
    }
   ],
   "metadata": {}
  },
  {
   "cell_type": "code",
   "execution_count": 29,
   "source": [
    "# interpret model features to extract information about common phrases in\n",
    "# positive vs negative reviews\n",
    "\n",
    "text_features = sgdc.named_steps.vect.get_feature_names()\n",
    "model_coefs = sgdc.named_steps.clf.coef_\n",
    "\n",
    "text_coefs = pd.DataFrame(index=text_features, data={'coefs': model_coefs[0]})\n",
    "text_coefs = text_coefs.iloc[(text_coefs['coefs']).argsort()]\n",
    "\n",
    "fig, ax = plt.subplots()\n",
    "ax.bar(text_coefs.index[:20], text_coefs['coefs'][:20].values)\n",
    "ax.tick_params(axis='x', labelrotation=90)\n",
    "ax.set_title('Negative Text Features')\n",
    "ax.set_ylabel('Coefficients')\n",
    "ax.set_xlabel('Text')\n",
    "plt.tight_layout()\n",
    "plt.savefig('../img/negative_text_coefficients.png', dpi=300)"
   ],
   "outputs": [
    {
     "output_type": "display_data",
     "data": {
      "text/plain": [
       "<Figure size 432x288 with 1 Axes>"
      ],
      "image/png": "[encoded data removed]"
     },
     "metadata": {}
    }
   ],
   "metadata": {}
  },
  {
   "cell_type": "code",
   "execution_count": 25,
   "source": [
    "text_coefs_rev = text_coefs[::-1]\n",
    "text_coefs_rev[:20]"
   ],
   "outputs": [
    {
     "output_type": "execute_result",
     "data": {
      "text/plain": [
       "              coefs\n",
       "love       6.557332\n",
       "great      4.874908\n",
       "hilarious  4.613407\n",
       "thank      4.555902\n",
       "best       4.500406\n",
       "amazing    3.482719\n",
       "thanks     3.322343\n",
       "favorite   3.302282\n",
       "life       2.900759\n",
       "always     2.751827\n",
       "awesome    2.718316\n",
       "wait       2.716417\n",
       "friends    2.612086\n",
       "work       2.612078\n",
       "glad       2.542715\n",
       "perfect    2.452629\n",
       "funniest   2.332376\n",
       "fun        2.331882\n",
       "hooked     2.331174\n",
       "fantastic  2.313466"
      ],
      "text/html": [
       "<div>\n",
       "<style scoped>\n",
       "    .dataframe tbody tr th:only-of-type {\n",
       "        vertical-align: middle;\n",
       "    }\n",
       "\n",
       "    .dataframe tbody tr th {\n",
       "        vertical-align: top;\n",
       "    }\n",
       "\n",
       "    .dataframe thead th {\n",
       "        text-align: right;\n",
       "    }\n",
       "</style>\n",
       "<table border=\"1\" class=\"dataframe\">\n",
       "  <thead>\n",
       "    <tr style=\"text-align: right;\">\n",
       "      <th></th>\n",
       "      <th>coefs</th>\n",
       "    </tr>\n",
       "  </thead>\n",
       "  <tbody>\n",
       "    <tr>\n",
       "      <th>love</th>\n",
       "      <td>6.557332</td>\n",
       "    </tr>\n",
       "    <tr>\n",
       "      <th>great</th>\n",
       "      <td>4.874908</td>\n",
       "    </tr>\n",
       "    <tr>\n",
       "      <th>hilarious</th>\n",
       "      <td>4.613407</td>\n",
       "    </tr>\n",
       "    <tr>\n",
       "      <th>thank</th>\n",
       "      <td>4.555902</td>\n",
       "    </tr>\n",
       "    <tr>\n",
       "      <th>best</th>\n",
       "      <td>4.500406</td>\n",
       "    </tr>\n",
       "    <tr>\n",
       "      <th>amazing</th>\n",
       "      <td>3.482719</td>\n",
       "    </tr>\n",
       "    <tr>\n",
       "      <th>thanks</th>\n",
       "      <td>3.322343</td>\n",
       "    </tr>\n",
       "    <tr>\n",
       "      <th>favorite</th>\n",
       "      <td>3.302282</td>\n",
       "    </tr>\n",
       "    <tr>\n",
       "      <th>life</th>\n",
       "      <td>2.900759</td>\n",
       "    </tr>\n",
       "    <tr>\n",
       "      <th>always</th>\n",
       "      <td>2.751827</td>\n",
       "    </tr>\n",
       "    <tr>\n",
       "      <th>awesome</th>\n",
       "      <td>2.718316</td>\n",
       "    </tr>\n",
       "    <tr>\n",
       "      <th>wait</th>\n",
       "      <td>2.716417</td>\n",
       "    </tr>\n",
       "    <tr>\n",
       "      <th>friends</th>\n",
       "      <td>2.612086</td>\n",
       "    </tr>\n",
       "    <tr>\n",
       "      <th>work</th>\n",
       "      <td>2.612078</td>\n",
       "    </tr>\n",
       "    <tr>\n",
       "      <th>glad</th>\n",
       "      <td>2.542715</td>\n",
       "    </tr>\n",
       "    <tr>\n",
       "      <th>perfect</th>\n",
       "      <td>2.452629</td>\n",
       "    </tr>\n",
       "    <tr>\n",
       "      <th>funniest</th>\n",
       "      <td>2.332376</td>\n",
       "    </tr>\n",
       "    <tr>\n",
       "      <th>fun</th>\n",
       "      <td>2.331882</td>\n",
       "    </tr>\n",
       "    <tr>\n",
       "      <th>hooked</th>\n",
       "      <td>2.331174</td>\n",
       "    </tr>\n",
       "    <tr>\n",
       "      <th>fantastic</th>\n",
       "      <td>2.313466</td>\n",
       "    </tr>\n",
       "  </tbody>\n",
       "</table>\n",
       "</div>"
      ]
     },
     "metadata": {},
     "execution_count": 25
    }
   ],
   "metadata": {}
  },
  {
   "cell_type": "code",
   "execution_count": 30,
   "source": [
    "fig, ax = plt.subplots()\n",
    "ax.bar(text_coefs_rev.index[:20], text_coefs_rev['coefs'][:20].values, color='green')\n",
    "ax.tick_params(axis='x', labelrotation=90)\n",
    "ax.set_title('Positive Text Features')\n",
    "ax.set_ylabel('Coefficients')\n",
    "ax.set_xlabel('Text')\n",
    "plt.tight_layout()\n",
    "plt.savefig('../img/positive_text_coefficients.png', dpi=300)"
   ],
   "outputs": [
    {
     "output_type": "display_data",
     "data": {
      "text/plain": [
       "<Figure size 432x288 with 1 Axes>"
      ],
      "image/png": "[encoded data removed]"
     },
     "metadata": {}
    }
   ],
   "metadata": {}
  },
  {
   "cell_type": "code",
   "execution_count": 32,
   "source": [
    "# repeat analysis for business podcasts\n",
    "\n",
    "business_reviews = reviews_categories[reviews_categories['category'] == 'business']\n",
    "\n",
    "X = business_reviews['content']\n",
    "y = business_reviews['rating'].apply(lambda x: 1 if x > 3 else 0)\n",
    "\n",
    "X_train, X_test, y_train, y_test = train_test_split(X, y)\n",
    "\n",
    "X_train = np.array(X_train).reshape(-1,1)\n",
    "y_train = np.array(y_train)\n",
    "\n",
    "ros = RandomOverSampler()\n",
    "X_resampled, y_resampled = ros.fit_resample(X_train, y_train)\n",
    "\n",
    "X_train_resampled = np.concatenate(X_resampled, axis=0)\n",
    "y_train_resampled = y_resampled\n"
   ],
   "outputs": [],
   "metadata": {}
  },
  {
   "cell_type": "code",
   "execution_count": 33,
   "source": [
    "sgdc = Pipeline([\n",
    "    ('vect', CountVectorizer(stop_words = updated_sw, ngram_range=(1,2))),\n",
    "    ('tfidf', TfidfTransformer()),\n",
    "    ('clf', SGDClassifier()),\n",
    "])\n",
    "\n",
    "sgdc.fit(X_train_resampled, y_train_resampled)\n",
    "predicted = sgdc.predict(X_test)\n",
    "\n",
    "print(classification_report(y_test, predicted))"
   ],
   "outputs": [
    {
     "output_type": "stream",
     "name": "stdout",
     "text": [
      "              precision    recall  f1-score   support\n",
      "\n",
      "           0       0.48      0.87      0.62      1561\n",
      "           1       0.99      0.95      0.97     31574\n",
      "\n",
      "    accuracy                           0.95     33135\n",
      "   macro avg       0.74      0.91      0.80     33135\n",
      "weighted avg       0.97      0.95      0.96     33135\n",
      "\n"
     ]
    }
   ],
   "metadata": {}
  },
  {
   "cell_type": "code",
   "execution_count": 34,
   "source": [
    "text_features = sgdc.named_steps.vect.get_feature_names()\n",
    "model_coefs = sgdc.named_steps.clf.coef_\n",
    "\n",
    "text_coefs = pd.DataFrame(index=text_features, data={'coefs': model_coefs[0]})\n",
    "text_coefs = text_coefs.iloc[(text_coefs['coefs']).argsort()]\n",
    "\n",
    "fig, ax = plt.subplots()\n",
    "ax.bar(text_coefs.index[:20], text_coefs['coefs'][:20].values)\n",
    "ax.tick_params(axis='x', labelrotation=90)\n",
    "ax.set_title('Negative Text Features')\n",
    "ax.set_ylabel('Coefficients')\n",
    "ax.set_xlabel('Text')\n",
    "plt.tight_layout()\n",
    "plt.savefig('../img/business_negative_text_coefficients.png', dpi=300)"
   ],
   "outputs": [
    {
     "output_type": "display_data",
     "data": {
      "text/plain": [
       "<Figure size 432x288 with 1 Axes>"
      ],
      "image/png": "[encoded data removed]"
     },
     "metadata": {}
    }
   ],
   "metadata": {}
  },
  {
   "cell_type": "code",
   "execution_count": 40,
   "source": [
    "text_coefs_rev = text_coefs[::-1]\n",
    "text_coefs_rev[:20]\n",
    "\n",
    "fig, ax = plt.subplots()\n",
    "ax.bar(text_coefs_rev.index[:20], text_coefs_rev['coefs'][:20].values, color='green')\n",
    "ax.tick_params(axis='x', labelrotation=90)\n",
    "ax.set_title('Positive Text Features')\n",
    "ax.set_ylabel('Coefficients')\n",
    "ax.set_xlabel('Text')\n",
    "plt.tight_layout()\n",
    "plt.savefig('../img/business_positive_text_coefficients.png', dpi=300)"
   ],
   "outputs": [
    {
     "output_type": "display_data",
     "data": {
      "text/plain": [
       "<Figure size 432x288 with 1 Axes>"
      ],
      "image/png": "[encoded data removed]"
     },
     "metadata": {}
    }
   ],
   "metadata": {}
  }
 ],
 "metadata": {
  "kernelspec": {
   "name": "python3",
   "display_name": "Python 3.8.10 64-bit ('base': conda)"
  },
  "language_info": {
   "codemirror_mode": {
    "name": "ipython",
    "version": 3
   },
   "file_extension": ".py",
   "mimetype": "text/x-python",
   "name": "python",
   "nbconvert_exporter": "python",
   "pygments_lexer": "ipython3",
   "version": "3.8.10"
  },
  "interpreter": {
   "hash": "788854e2bbc3d20cc56c650837a4ed1f51f3b262433e3e3955cbde64816cf559"
  }
 },
 "nbformat": 4,
 "nbformat_minor": 2
}